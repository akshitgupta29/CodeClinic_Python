{
  "nbformat": 4,
  "nbformat_minor": 0,
  "metadata": {
    "colab": {
      "name": "Imputations.ipynb",
      "provenance": [],
      "collapsed_sections": [],
      "toc_visible": true,
      "authorship_tag": "ABX9TyNgEhfebk36ht59D38dIF/p",
      "include_colab_link": true
    },
    "kernelspec": {
      "name": "python3",
      "display_name": "Python 3"
    }
  },
  "cells": [
    {
      "cell_type": "markdown",
      "metadata": {
        "id": "view-in-github",
        "colab_type": "text"
      },
      "source": [
        "<a href=\"https://colab.research.google.com/github/akshitgupta29/DS-ML/blob/master/Imputations.ipynb\" target=\"_parent\"><img src=\"https://colab.research.google.com/assets/colab-badge.svg\" alt=\"Open In Colab\"/></a>"
      ]
    },
    {
      "cell_type": "code",
      "metadata": {
        "id": "3_SN5qth1Wdj"
      },
      "source": [
        "import numpy as np\n",
        "import pandas as pd"
      ],
      "execution_count": 3,
      "outputs": []
    },
    {
      "cell_type": "code",
      "metadata": {
        "id": "piCtoylDRFZu",
        "outputId": "46b2c92e-69d7-46fa-8dbf-a1fd559ff208",
        "colab": {
          "base_uri": "https://localhost:8080/",
          "height": 257
        }
      },
      "source": [
        "data = pd.read_csv(\"/content/consolidated_data_20200617.csv\", thousands=r',')\n",
        "data.drop('Panel_Status,Panel_Execution_Time,DCS_Status,DCS_Execution_Time,CDR_Success,CDR_Failed,CDR_Total,Benefit_Success,Benefit_Failed,Benefit_Total,Proactive_SMS_Success,Proactive_SMS_Failed,Proactive_SMS_Total,Extracts_Ready,hive-load-logs,hive-load-aggregations,hive-load-decisioning,hive-load-facts,hive-load-metadata,hive-load-panels,hive-high_priority_panels,hive-load-runtime_audit,hive-load-retention,move-roots', axis=1, inplace=True)\n",
        "data.head()"
      ],
      "execution_count": 4,
      "outputs": [
        {
          "output_type": "execute_result",
          "data": {
            "text/html": [
              "<div>\n",
              "<style scoped>\n",
              "    .dataframe tbody tr th:only-of-type {\n",
              "        vertical-align: middle;\n",
              "    }\n",
              "\n",
              "    .dataframe tbody tr th {\n",
              "        vertical-align: top;\n",
              "    }\n",
              "\n",
              "    .dataframe thead th {\n",
              "        text-align: right;\n",
              "    }\n",
              "</style>\n",
              "<table border=\"1\" class=\"dataframe\">\n",
              "  <thead>\n",
              "    <tr style=\"text-align: right;\">\n",
              "      <th></th>\n",
              "      <th>Account</th>\n",
              "      <th>Effecttive_date</th>\n",
              "      <th>Panel_Status</th>\n",
              "      <th>Panel_Execution_Time</th>\n",
              "      <th>DCS_Status</th>\n",
              "      <th>DCS_Execution_Time</th>\n",
              "      <th>CDR_Success</th>\n",
              "      <th>CDR_Failed</th>\n",
              "      <th>CDR_Total</th>\n",
              "      <th>Benefit_Success</th>\n",
              "      <th>Benefit_Failed</th>\n",
              "      <th>Benefit_Total</th>\n",
              "      <th>Proactive_SMS_Success</th>\n",
              "      <th>Proactive_SMS_Failed</th>\n",
              "      <th>Proactive_SMS_Total</th>\n",
              "      <th>Extracts_Ready</th>\n",
              "      <th>hive-load-logs</th>\n",
              "      <th>hive-load-aggregations</th>\n",
              "      <th>hive-load-decisioning</th>\n",
              "      <th>hive-load-facts</th>\n",
              "      <th>hive-load-metadata</th>\n",
              "      <th>hive-load-panels</th>\n",
              "      <th>hive-high_priority_panels</th>\n",
              "      <th>hive-load-runtime_audit</th>\n",
              "      <th>hive-load-retention</th>\n",
              "      <th>move-roots</th>\n",
              "    </tr>\n",
              "  </thead>\n",
              "  <tbody>\n",
              "    <tr>\n",
              "      <th>0</th>\n",
              "      <td>PLDT</td>\n",
              "      <td>2020-03-30.csv</td>\n",
              "      <td>SUCCEEDED</td>\n",
              "      <td>4:40:53</td>\n",
              "      <td>None</td>\n",
              "      <td>None</td>\n",
              "      <td>0</td>\n",
              "      <td>0</td>\n",
              "      <td>0</td>\n",
              "      <td>0</td>\n",
              "      <td>0</td>\n",
              "      <td>0</td>\n",
              "      <td>507</td>\n",
              "      <td>0</td>\n",
              "      <td>721</td>\n",
              "      <td>0</td>\n",
              "      <td>1</td>\n",
              "      <td>0</td>\n",
              "      <td>0</td>\n",
              "      <td>0</td>\n",
              "      <td>0</td>\n",
              "      <td>0</td>\n",
              "      <td>1</td>\n",
              "      <td>0</td>\n",
              "      <td>0</td>\n",
              "      <td>0</td>\n",
              "    </tr>\n",
              "    <tr>\n",
              "      <th>1</th>\n",
              "      <td>PLDT</td>\n",
              "      <td>2019-10-03.csv</td>\n",
              "      <td>SUCCEEDED</td>\n",
              "      <td>1:58:31</td>\n",
              "      <td>Finished</td>\n",
              "      <td>17:32.2</td>\n",
              "      <td>70</td>\n",
              "      <td>0</td>\n",
              "      <td>70</td>\n",
              "      <td>29</td>\n",
              "      <td>0</td>\n",
              "      <td>70</td>\n",
              "      <td>2410</td>\n",
              "      <td>0</td>\n",
              "      <td>2653</td>\n",
              "      <td>1</td>\n",
              "      <td>1</td>\n",
              "      <td>0</td>\n",
              "      <td>0</td>\n",
              "      <td>0</td>\n",
              "      <td>0</td>\n",
              "      <td>0</td>\n",
              "      <td>1</td>\n",
              "      <td>0</td>\n",
              "      <td>0</td>\n",
              "      <td>0</td>\n",
              "    </tr>\n",
              "    <tr>\n",
              "      <th>2</th>\n",
              "      <td>PLDT</td>\n",
              "      <td>2019-09-18.csv</td>\n",
              "      <td>SUCCEEDED</td>\n",
              "      <td>2:14:57</td>\n",
              "      <td>Finished</td>\n",
              "      <td>29:43.9</td>\n",
              "      <td>20</td>\n",
              "      <td>0</td>\n",
              "      <td>20</td>\n",
              "      <td>16</td>\n",
              "      <td>0</td>\n",
              "      <td>20</td>\n",
              "      <td>9844</td>\n",
              "      <td>0</td>\n",
              "      <td>68778</td>\n",
              "      <td>0</td>\n",
              "      <td>1</td>\n",
              "      <td>0</td>\n",
              "      <td>0</td>\n",
              "      <td>0</td>\n",
              "      <td>0</td>\n",
              "      <td>0</td>\n",
              "      <td>1</td>\n",
              "      <td>0</td>\n",
              "      <td>0</td>\n",
              "      <td>0</td>\n",
              "    </tr>\n",
              "    <tr>\n",
              "      <th>3</th>\n",
              "      <td>PLDT</td>\n",
              "      <td>2019-09-25.csv</td>\n",
              "      <td>SUCCEEDED</td>\n",
              "      <td>4:22:15</td>\n",
              "      <td>Finished</td>\n",
              "      <td>14:38.1</td>\n",
              "      <td>70</td>\n",
              "      <td>0</td>\n",
              "      <td>70</td>\n",
              "      <td>22</td>\n",
              "      <td>0</td>\n",
              "      <td>70</td>\n",
              "      <td>686</td>\n",
              "      <td>0</td>\n",
              "      <td>2538</td>\n",
              "      <td>1</td>\n",
              "      <td>1</td>\n",
              "      <td>0</td>\n",
              "      <td>0</td>\n",
              "      <td>0</td>\n",
              "      <td>0</td>\n",
              "      <td>0</td>\n",
              "      <td>1</td>\n",
              "      <td>0</td>\n",
              "      <td>0</td>\n",
              "      <td>0</td>\n",
              "    </tr>\n",
              "    <tr>\n",
              "      <th>4</th>\n",
              "      <td>PLDT</td>\n",
              "      <td>2019-09-06.csv</td>\n",
              "      <td>SUCCEEDED</td>\n",
              "      <td>0:59:58</td>\n",
              "      <td>Finished</td>\n",
              "      <td>43:32.4</td>\n",
              "      <td>0</td>\n",
              "      <td>0</td>\n",
              "      <td>0</td>\n",
              "      <td>0</td>\n",
              "      <td>0</td>\n",
              "      <td>0</td>\n",
              "      <td>0</td>\n",
              "      <td>0</td>\n",
              "      <td>0</td>\n",
              "      <td>1</td>\n",
              "      <td>1</td>\n",
              "      <td>0</td>\n",
              "      <td>0</td>\n",
              "      <td>0</td>\n",
              "      <td>0</td>\n",
              "      <td>0</td>\n",
              "      <td>1</td>\n",
              "      <td>0</td>\n",
              "      <td>0</td>\n",
              "      <td>0</td>\n",
              "    </tr>\n",
              "  </tbody>\n",
              "</table>\n",
              "</div>"
            ],
            "text/plain": [
              "  Account Effecttive_date  ... hive-load-retention move-roots\n",
              "0    PLDT  2020-03-30.csv  ...                   0          0\n",
              "1    PLDT  2019-10-03.csv  ...                   0          0\n",
              "2    PLDT  2019-09-18.csv  ...                   0          0\n",
              "3    PLDT  2019-09-25.csv  ...                   0          0\n",
              "4    PLDT  2019-09-06.csv  ...                   0          0\n",
              "\n",
              "[5 rows x 26 columns]"
            ]
          },
          "metadata": {
            "tags": []
          },
          "execution_count": 4
        }
      ]
    },
    {
      "cell_type": "code",
      "metadata": {
        "id": "F18deMSkRudz"
      },
      "source": [
        "data['DCS_Execution_Time'].replace(\"None\", np.NaN, inplace=True)"
      ],
      "execution_count": null,
      "outputs": []
    },
    {
      "cell_type": "code",
      "metadata": {
        "id": "UEXDEb1NSCnS",
        "outputId": "2d24bd6e-774e-47da-a5e8-eb8fce4f72c8",
        "colab": {
          "base_uri": "https://localhost:8080/",
          "height": 257
        }
      },
      "source": [
        "data.head()"
      ],
      "execution_count": null,
      "outputs": [
        {
          "output_type": "execute_result",
          "data": {
            "text/html": [
              "<div>\n",
              "<style scoped>\n",
              "    .dataframe tbody tr th:only-of-type {\n",
              "        vertical-align: middle;\n",
              "    }\n",
              "\n",
              "    .dataframe tbody tr th {\n",
              "        vertical-align: top;\n",
              "    }\n",
              "\n",
              "    .dataframe thead th {\n",
              "        text-align: right;\n",
              "    }\n",
              "</style>\n",
              "<table border=\"1\" class=\"dataframe\">\n",
              "  <thead>\n",
              "    <tr style=\"text-align: right;\">\n",
              "      <th></th>\n",
              "      <th>Account</th>\n",
              "      <th>Effecttive_date</th>\n",
              "      <th>Panel_Status</th>\n",
              "      <th>Panel_Execution_Time</th>\n",
              "      <th>DCS_Status</th>\n",
              "      <th>DCS_Execution_Time</th>\n",
              "      <th>CDR_Success</th>\n",
              "      <th>CDR_Failed</th>\n",
              "      <th>CDR_Total</th>\n",
              "      <th>Benefit_Success</th>\n",
              "      <th>Benefit_Failed</th>\n",
              "      <th>Benefit_Total</th>\n",
              "      <th>Proactive_SMS_Success</th>\n",
              "      <th>Proactive_SMS_Failed</th>\n",
              "      <th>Proactive_SMS_Total</th>\n",
              "      <th>Extracts_Ready</th>\n",
              "      <th>hive-load-logs</th>\n",
              "      <th>hive-load-aggregations</th>\n",
              "      <th>hive-load-decisioning</th>\n",
              "      <th>hive-load-facts</th>\n",
              "      <th>hive-load-metadata</th>\n",
              "      <th>hive-load-panels</th>\n",
              "      <th>hive-high_priority_panels</th>\n",
              "      <th>hive-load-runtime_audit</th>\n",
              "      <th>hive-load-retention</th>\n",
              "      <th>move-roots</th>\n",
              "    </tr>\n",
              "  </thead>\n",
              "  <tbody>\n",
              "    <tr>\n",
              "      <th>0</th>\n",
              "      <td>PLDT</td>\n",
              "      <td>2020-03-30.csv</td>\n",
              "      <td>SUCCEEDED</td>\n",
              "      <td>4:40:53</td>\n",
              "      <td>None</td>\n",
              "      <td>NaN</td>\n",
              "      <td>0</td>\n",
              "      <td>0</td>\n",
              "      <td>0</td>\n",
              "      <td>0</td>\n",
              "      <td>0</td>\n",
              "      <td>0</td>\n",
              "      <td>507</td>\n",
              "      <td>0</td>\n",
              "      <td>721</td>\n",
              "      <td>0</td>\n",
              "      <td>1</td>\n",
              "      <td>0</td>\n",
              "      <td>0</td>\n",
              "      <td>0</td>\n",
              "      <td>0</td>\n",
              "      <td>0</td>\n",
              "      <td>1</td>\n",
              "      <td>0</td>\n",
              "      <td>0</td>\n",
              "      <td>0</td>\n",
              "    </tr>\n",
              "    <tr>\n",
              "      <th>1</th>\n",
              "      <td>PLDT</td>\n",
              "      <td>2019-10-03.csv</td>\n",
              "      <td>SUCCEEDED</td>\n",
              "      <td>1:58:31</td>\n",
              "      <td>Finished</td>\n",
              "      <td>17:32.2</td>\n",
              "      <td>70</td>\n",
              "      <td>0</td>\n",
              "      <td>70</td>\n",
              "      <td>29</td>\n",
              "      <td>0</td>\n",
              "      <td>70</td>\n",
              "      <td>2,410</td>\n",
              "      <td>0</td>\n",
              "      <td>2,653</td>\n",
              "      <td>1</td>\n",
              "      <td>1</td>\n",
              "      <td>0</td>\n",
              "      <td>0</td>\n",
              "      <td>0</td>\n",
              "      <td>0</td>\n",
              "      <td>0</td>\n",
              "      <td>1</td>\n",
              "      <td>0</td>\n",
              "      <td>0</td>\n",
              "      <td>0</td>\n",
              "    </tr>\n",
              "    <tr>\n",
              "      <th>2</th>\n",
              "      <td>PLDT</td>\n",
              "      <td>2019-09-18.csv</td>\n",
              "      <td>SUCCEEDED</td>\n",
              "      <td>2:14:57</td>\n",
              "      <td>Finished</td>\n",
              "      <td>29:43.9</td>\n",
              "      <td>20</td>\n",
              "      <td>0</td>\n",
              "      <td>20</td>\n",
              "      <td>16</td>\n",
              "      <td>0</td>\n",
              "      <td>20</td>\n",
              "      <td>9,844</td>\n",
              "      <td>0</td>\n",
              "      <td>68,778</td>\n",
              "      <td>0</td>\n",
              "      <td>1</td>\n",
              "      <td>0</td>\n",
              "      <td>0</td>\n",
              "      <td>0</td>\n",
              "      <td>0</td>\n",
              "      <td>0</td>\n",
              "      <td>1</td>\n",
              "      <td>0</td>\n",
              "      <td>0</td>\n",
              "      <td>0</td>\n",
              "    </tr>\n",
              "    <tr>\n",
              "      <th>3</th>\n",
              "      <td>PLDT</td>\n",
              "      <td>2019-09-25.csv</td>\n",
              "      <td>SUCCEEDED</td>\n",
              "      <td>4:22:15</td>\n",
              "      <td>Finished</td>\n",
              "      <td>14:38.1</td>\n",
              "      <td>70</td>\n",
              "      <td>0</td>\n",
              "      <td>70</td>\n",
              "      <td>22</td>\n",
              "      <td>0</td>\n",
              "      <td>70</td>\n",
              "      <td>686</td>\n",
              "      <td>0</td>\n",
              "      <td>2,538</td>\n",
              "      <td>1</td>\n",
              "      <td>1</td>\n",
              "      <td>0</td>\n",
              "      <td>0</td>\n",
              "      <td>0</td>\n",
              "      <td>0</td>\n",
              "      <td>0</td>\n",
              "      <td>1</td>\n",
              "      <td>0</td>\n",
              "      <td>0</td>\n",
              "      <td>0</td>\n",
              "    </tr>\n",
              "    <tr>\n",
              "      <th>4</th>\n",
              "      <td>PLDT</td>\n",
              "      <td>2019-09-06.csv</td>\n",
              "      <td>SUCCEEDED</td>\n",
              "      <td>0:59:58</td>\n",
              "      <td>Finished</td>\n",
              "      <td>43:32.4</td>\n",
              "      <td>0</td>\n",
              "      <td>0</td>\n",
              "      <td>0</td>\n",
              "      <td>0</td>\n",
              "      <td>0</td>\n",
              "      <td>0</td>\n",
              "      <td>0</td>\n",
              "      <td>0</td>\n",
              "      <td>0</td>\n",
              "      <td>1</td>\n",
              "      <td>1</td>\n",
              "      <td>0</td>\n",
              "      <td>0</td>\n",
              "      <td>0</td>\n",
              "      <td>0</td>\n",
              "      <td>0</td>\n",
              "      <td>1</td>\n",
              "      <td>0</td>\n",
              "      <td>0</td>\n",
              "      <td>0</td>\n",
              "    </tr>\n",
              "  </tbody>\n",
              "</table>\n",
              "</div>"
            ],
            "text/plain": [
              "  Account Effecttive_date  ... hive-load-retention move-roots\n",
              "0    PLDT  2020-03-30.csv  ...                   0          0\n",
              "1    PLDT  2019-10-03.csv  ...                   0          0\n",
              "2    PLDT  2019-09-18.csv  ...                   0          0\n",
              "3    PLDT  2019-09-25.csv  ...                   0          0\n",
              "4    PLDT  2019-09-06.csv  ...                   0          0\n",
              "\n",
              "[5 rows x 26 columns]"
            ]
          },
          "metadata": {
            "tags": []
          },
          "execution_count": 8
        }
      ]
    },
    {
      "cell_type": "code",
      "metadata": {
        "id": "441Z7oZNSFVA",
        "outputId": "8ffdb6da-bff0-4b6d-f15a-33aec034bb68",
        "colab": {
          "base_uri": "https://localhost:8080/",
          "height": 312
        }
      },
      "source": [
        "data['DCS_Execution_Time'].unique()"
      ],
      "execution_count": null,
      "outputs": [
        {
          "output_type": "execute_result",
          "data": {
            "text/plain": [
              "array([nan, '17:32.2', '29:43.9', '14:38.1', '43:32.4', '36:42.8',\n",
              "       '00:29.2', '52:49.0', '52:42.8', '45:38.1', '13:58.2', '38:42.9',\n",
              "       '16:21.1', '27:18.9', '34:42.6', '31:42.9', '08:18.7', '47:42.7',\n",
              "       '18:19.1', '49:42.8', '55:18.4', '00:34.8', '51:42.8', '08:47.9',\n",
              "       '32:42.7', '18:21.4', '47:03.9', '33:25.1', '33:57.9', '37:42.8',\n",
              "       '28:47.6', '32:42.8', '39:42.8', '08:01.0', '26:40.1', '36:47.6',\n",
              "       '18:34.5', '40:42.8', 'NOT_STARETD', '17:30.4', '01:24.5',\n",
              "       '43:42.9', '35:42.5', '48:16.6', '25:18.8', '57:50.7', '39:47.5',\n",
              "       '27:47.6', '49:02.2', '52:01.5', '27:26.4', '21:28.2', '36:02.2',\n",
              "       '09:29.2', '16:21.5', '08:32.0', '28:47.5', '16:27.6', '23:13.3',\n",
              "       '36:01.7', '12:56.2', '55:47.9', '49:16.4', '43:24.1', '02:10.9',\n",
              "       '16:57.7', '16:57.1', '26:25.3', '36:42.9', '38:42.7', '06:51.0',\n",
              "       '37:21.5', '34:42.5', '39:42.7', '09:27.1', '35:47.6', '50:42.7',\n",
              "       '08:53.2', '23:21.2', '19:12.8', '15:14.8', '02:54.4', '53:28.6',\n",
              "       '33:42.7', '43:42.7', '49:36.4', '01:06.1', '29:48.0', '48:42.7',\n",
              "       '10:40.5', '54:26.7', '30:33.6', '14:23.4', '27:50.9', '04:10.6'],\n",
              "      dtype=object)"
            ]
          },
          "metadata": {
            "tags": []
          },
          "execution_count": 7
        }
      ]
    },
    {
      "cell_type": "code",
      "metadata": {
        "id": "1tsOhiZUqn2q"
      },
      "source": [
        "data['DCS_Execution_Time'] = data['DCS_Execution_Time'].replace('NOT_STARETD', np.nan)"
      ],
      "execution_count": null,
      "outputs": []
    },
    {
      "cell_type": "code",
      "metadata": {
        "id": "hGPF2BnpvDFp",
        "outputId": "69d90c7f-9ea6-4c71-d37c-d4008edcfd84",
        "colab": {
          "base_uri": "https://localhost:8080/",
          "height": 208
        }
      },
      "source": [
        "data['DCS_Execution_Time'].head(10)"
      ],
      "execution_count": null,
      "outputs": [
        {
          "output_type": "execute_result",
          "data": {
            "text/plain": [
              "0        NaN\n",
              "1    17:32.2\n",
              "2    29:43.9\n",
              "3    14:38.1\n",
              "4    43:32.4\n",
              "5        NaN\n",
              "6        NaN\n",
              "7        NaN\n",
              "8    36:42.8\n",
              "9        NaN\n",
              "Name: DCS_Execution_Time, dtype: object"
            ]
          },
          "metadata": {
            "tags": []
          },
          "execution_count": 9
        }
      ]
    },
    {
      "cell_type": "code",
      "metadata": {
        "id": "UaldpD9XUCOF"
      },
      "source": [
        "#currently working # Do not run it now.\n",
        "def convert_to_sec(dhms_str):\n",
        "    '''supports also format of d:h:m:s, h:m:s, m:s and s. Please supply the parameters as a string and function will return the integer values'''\n",
        "    \n",
        "    #if microseconhs has '.' format instead of expected ':' format\n",
        "    dhms_str = dhms_str.split(\".\")[0]\n",
        "    \n",
        "    _,d,h,m,s = (':0'*10+ dhms_str).rsplit(':',4)\n",
        "    # print (f\"d={d}, h= {h}, m={m}, s={s}\")\n",
        "    # print ((':0'*10) + dhms_str)\n",
        "    return (int(d)*24*60*60+int(h)*60*60+int(m)*60+int(s))\n",
        "\n",
        "def convert_to_minute (dhms_str):\n",
        "    return (convert_to_sec(dhms_str=dhms_str)/60)\n",
        "\n",
        "def convert_to_hour (dhms_str):\n",
        "    return (convert_to_sec(dhms_str)/(60*60))\n",
        "\n",
        "def convert_to_days (dhms_str):\n",
        "    return (convert_to_sec(dhms_str)/(60*60*24))"
      ],
      "execution_count": null,
      "outputs": []
    },
    {
      "cell_type": "code",
      "metadata": {
        "id": "IHtWzwdOttYa"
      },
      "source": [
        "data['DCS_Execution_Time'] = data['DCS_Execution_Time'].loc[data['DCS_Execution_Time'].notnull()].apply(lambda x:convert_to_sec(str(x)))"
      ],
      "execution_count": null,
      "outputs": []
    },
    {
      "cell_type": "code",
      "metadata": {
        "id": "ASPnEBK1tpDT"
      },
      "source": [
        "#updates to make the command easier to execute\n",
        "\n",
        "def convert_time_to_sec (data1):\n",
        "    '''Supply a Series (column of data1 frame). \n",
        "    Returns the column with time converted to seconds'''\n",
        "    data1 = data1.loc[data1.notnull()].apply(lambda x:convert_to_sec(str(x))) \n",
        "    return data1\n",
        "\n",
        "def convert_time_to_minute (data1):\n",
        "    '''Supply a Series (column of data1 frame). \n",
        "    Returns the column with time converted to minutes'''\n",
        "    data1 = data1.loc[data1.notnull()].apply(lambda x:convert_to_sec(str(x))/60) \n",
        "    return data1\n",
        "\n",
        "def convert_time_to_hour (data1):\n",
        "    '''Supply a Series (column of data frame). \n",
        "    Returns the column with time converted to hours'''\n",
        "    data1 = data1.loc[data1.notnull()].apply(lambda x:convert_to_sec(str(x))/(60*60)) \n",
        "    return data1\n",
        "\n",
        "def convert_time_to_days (data1):\n",
        "    '''Supply a Series (column of data1 frame). \n",
        "    Returns the column with time converted to days'''\n",
        "    data1 = data1.loc[data1.notnull()].apply(lambda x:convert_to_sec(str(x))/(60*60*24)) \n",
        "    return data1\n",
        "\n",
        "def convert_to_sec(dhms_str):\n",
        "    '''For internal use only'''\n",
        "    '''supports also format of d:h:m:s, h:m:s, m:s and s. Please supply the parameters as a string and function will return the integer values'''\n",
        "    \n",
        "    #if microseconhs has '.' format instead of expected ':' format\n",
        "    dhms_str = dhms_str.split(\".\")[0]\n",
        "    \n",
        "    _,d,h,m,s = (':0'*10+ dhms_str).rsplit(':',4)\n",
        "    # print (f\"d={d}, h= {h}, m={m}, s={s}\")\n",
        "    # print ((':0'*10) + dhms_str)\n",
        "    return (int(d)*24*60*60+int(h)*60*60+int(m)*60+int(s))\n",
        "\n",
        "# def convert_to_minute (dhms_str):\n",
        "#     return (convert_to_sec(dhms_str=dhms_str)/60)\n",
        "\n",
        "# def convert_to_hour (dhms_str):\n",
        "#     return (convert_to_sec(dhms_str)/(60*60))\n",
        "\n",
        "# def convert_to_days (dhms_str):\n",
        "#     return (convert_to_sec(dhms_str)/(60*60*24))"
      ],
      "execution_count": 5,
      "outputs": []
    },
    {
      "cell_type": "code",
      "metadata": {
        "id": "PN9Mbod3uTOS",
        "outputId": "8a0697e8-8df2-4272-b6fb-b138097510e4",
        "colab": {
          "base_uri": "https://localhost:8080/",
          "height": 208
        }
      },
      "source": [
        "data['DCS_Execution_Time'] = convert_time_to_sec(data['DCS_Execution_Time'])\n",
        "data['DCS_Execution_Time'].head(10)"
      ],
      "execution_count": null,
      "outputs": [
        {
          "output_type": "execute_result",
          "data": {
            "text/plain": [
              "0       NaN\n",
              "1    1052.0\n",
              "2    1783.0\n",
              "3     878.0\n",
              "4    2612.0\n",
              "5       NaN\n",
              "6       NaN\n",
              "7       NaN\n",
              "8    2202.0\n",
              "9       NaN\n",
              "Name: DCS_Execution_Time, dtype: float64"
            ]
          },
          "metadata": {
            "tags": []
          },
          "execution_count": 12
        }
      ]
    },
    {
      "cell_type": "code",
      "metadata": {
        "id": "JU3yaPQtqSV2"
      },
      "source": [
        "# data['DCS_Execution_Time'] = data['DCS_Execution_Time'].loc[data['DCS_Execution_Time'].notnull()].apply(lambda x:convert_to_sec(str(x)))"
      ],
      "execution_count": null,
      "outputs": []
    },
    {
      "cell_type": "code",
      "metadata": {
        "id": "pXsQl5KNrH3X",
        "outputId": "5bfcc284-be1f-497a-a77c-8f310198f736",
        "colab": {
          "base_uri": "https://localhost:8080/",
          "height": 225
        }
      },
      "source": [
        "data['DCS_Execution_Time']"
      ],
      "execution_count": null,
      "outputs": [
        {
          "output_type": "execute_result",
          "data": {
            "text/plain": [
              "0         NaN\n",
              "1      1052.0\n",
              "2      1783.0\n",
              "3       878.0\n",
              "4      2612.0\n",
              "        ...  \n",
              "271       NaN\n",
              "272       NaN\n",
              "273    1670.0\n",
              "274     250.0\n",
              "275       NaN\n",
              "Name: DCS_Execution_Time, Length: 276, dtype: float64"
            ]
          },
          "metadata": {
            "tags": []
          },
          "execution_count": 21
        }
      ]
    },
    {
      "cell_type": "code",
      "metadata": {
        "id": "7Uv6MJUOqKaT",
        "outputId": "4837b5c4-210a-4057-e555-001587424db5",
        "colab": {
          "base_uri": "https://localhost:8080/",
          "height": 485
        }
      },
      "source": [
        "data.isnull().sum()"
      ],
      "execution_count": null,
      "outputs": [
        {
          "output_type": "execute_result",
          "data": {
            "text/plain": [
              "Account                        0\n",
              "Effecttive_date                0\n",
              "Panel_Status                   0\n",
              "Panel_Execution_Time           0\n",
              "DCS_Status                     0\n",
              "DCS_Execution_Time           180\n",
              "CDR_Success                    0\n",
              "CDR_Failed                     0\n",
              "CDR_Total                      0\n",
              "Benefit_Success                0\n",
              "Benefit_Failed                 0\n",
              "Benefit_Total                  0\n",
              "Proactive_SMS_Success          0\n",
              "Proactive_SMS_Failed           0\n",
              "Proactive_SMS_Total            0\n",
              "Extracts_Ready                 0\n",
              "hive-load-logs                 0\n",
              "hive-load-aggregations         0\n",
              "hive-load-decisioning          0\n",
              "hive-load-facts                0\n",
              "hive-load-metadata             0\n",
              "hive-load-panels               0\n",
              "hive-high_priority_panels      0\n",
              "hive-load-runtime_audit        0\n",
              "hive-load-retention            0\n",
              "move-roots                     0\n",
              "dtype: int64"
            ]
          },
          "metadata": {
            "tags": []
          },
          "execution_count": 20
        }
      ]
    },
    {
      "cell_type": "markdown",
      "metadata": {
        "id": "OFSnEkcds83Y"
      },
      "source": [
        "# Imputations using Mean in our dataSet\n"
      ]
    },
    {
      "cell_type": "code",
      "metadata": {
        "id": "8fRJiKfQrDus",
        "outputId": "dfefd3ce-1c5b-403f-f902-ca52de7e5352",
        "colab": {
          "base_uri": "https://localhost:8080/",
          "height": 191
        }
      },
      "source": [
        "from sklearn.impute import SimpleImputer\n",
        "\n",
        "model = SimpleImputer(strategy=\"mean\", missing_values=np.nan)\n",
        "# data['DCS_Execution_Time'] = data['DCS_Execution_Time'].reshape(-1,1)\n",
        "model.fit(data[['DCS_Execution_Time']])\n",
        "# model.fit(data)\n",
        "imputed_data_mean = model.transform (data[[\"DCS_Execution_Time\"]])\n",
        "imputed_data_mean[:10]"
      ],
      "execution_count": null,
      "outputs": [
        {
          "output_type": "execute_result",
          "data": {
            "text/plain": [
              "array([[1787.70833333],\n",
              "       [1052.        ],\n",
              "       [1783.        ],\n",
              "       [ 878.        ],\n",
              "       [2612.        ],\n",
              "       [1787.70833333],\n",
              "       [1787.70833333],\n",
              "       [1787.70833333],\n",
              "       [2202.        ],\n",
              "       [1787.70833333]])"
            ]
          },
          "metadata": {
            "tags": []
          },
          "execution_count": 24
        }
      ]
    },
    {
      "cell_type": "markdown",
      "metadata": {
        "id": "pOwpiojC11ox"
      },
      "source": [
        "# Imputations using Mean in our dataSet\n"
      ]
    },
    {
      "cell_type": "code",
      "metadata": {
        "id": "nF-T3x2TuY7e",
        "outputId": "d2ce6475-187e-4d6c-9bb8-abaec50905e3",
        "colab": {
          "base_uri": "https://localhost:8080/",
          "height": 191
        }
      },
      "source": [
        "# Imputations using Mean in our dataSet\n",
        "model = SimpleImputer(strategy=\"median\", missing_values=np.nan)\n",
        "# data['DCS_Execution_Time'] = data['DCS_Execution_Time'].reshape(-1,1)\n",
        "model.fit(data[['DCS_Execution_Time']])\n",
        "# model.fit(data)\n",
        "imputed_data_mean = model.transform (data[[\"DCS_Execution_Time\"]])\n",
        "imputed_data_mean[:10]"
      ],
      "execution_count": null,
      "outputs": [
        {
          "output_type": "execute_result",
          "data": {
            "text/plain": [
              "array([[1932.],\n",
              "       [1052.],\n",
              "       [1783.],\n",
              "       [ 878.],\n",
              "       [2612.],\n",
              "       [1932.],\n",
              "       [1932.],\n",
              "       [1932.],\n",
              "       [2202.],\n",
              "       [1932.]])"
            ]
          },
          "metadata": {
            "tags": []
          },
          "execution_count": 37
        }
      ]
    },
    {
      "cell_type": "markdown",
      "metadata": {
        "id": "YjCGSK1431ew"
      },
      "source": [
        "# Imputations using KNN in our dataset, but running KNN on single column\n"
      ]
    },
    {
      "cell_type": "code",
      "metadata": {
        "id": "baE5rzLN2HSL"
      },
      "source": [
        "from sklearn.impute import KNNImputer"
      ],
      "execution_count": null,
      "outputs": []
    },
    {
      "cell_type": "code",
      "metadata": {
        "id": "3bkYwRsE4EP9"
      },
      "source": [
        "imputer = KNNImputer(n_neighbors=3)\n",
        "imputed_data = imputer.fit_transform(data[['DCS_Execution_Time']])"
      ],
      "execution_count": null,
      "outputs": []
    },
    {
      "cell_type": "code",
      "metadata": {
        "id": "6x-8uY024UY-",
        "outputId": "f0a497d0-7943-4bad-a75e-50da62709b14",
        "colab": {
          "base_uri": "https://localhost:8080/",
          "height": 191
        }
      },
      "source": [
        "imputed_data[:10]"
      ],
      "execution_count": null,
      "outputs": [
        {
          "output_type": "execute_result",
          "data": {
            "text/plain": [
              "array([[1787.70833333],\n",
              "       [1052.        ],\n",
              "       [1783.        ],\n",
              "       [ 878.        ],\n",
              "       [2612.        ],\n",
              "       [1787.70833333],\n",
              "       [1787.70833333],\n",
              "       [1787.70833333],\n",
              "       [2202.        ],\n",
              "       [1787.70833333]])"
            ]
          },
          "metadata": {
            "tags": []
          },
          "execution_count": 22
        }
      ]
    },
    {
      "cell_type": "markdown",
      "metadata": {
        "id": "iHZ21NhY8tmD"
      },
      "source": [
        "# Imputations using KNN in our dataset, but running KNN on whole dataset\n"
      ]
    },
    {
      "cell_type": "code",
      "metadata": {
        "id": "NqgerY2E4Wis"
      },
      "source": [
        "data_whole = data"
      ],
      "execution_count": 6,
      "outputs": []
    },
    {
      "cell_type": "code",
      "metadata": {
        "id": "3D94OWBd85Vo",
        "outputId": "dfc03b82-664d-46c1-cc9f-039d0b67c4d2",
        "colab": {
          "base_uri": "https://localhost:8080/",
          "height": 257
        }
      },
      "source": [
        "data_whole.head()"
      ],
      "execution_count": 7,
      "outputs": [
        {
          "output_type": "execute_result",
          "data": {
            "text/html": [
              "<div>\n",
              "<style scoped>\n",
              "    .dataframe tbody tr th:only-of-type {\n",
              "        vertical-align: middle;\n",
              "    }\n",
              "\n",
              "    .dataframe tbody tr th {\n",
              "        vertical-align: top;\n",
              "    }\n",
              "\n",
              "    .dataframe thead th {\n",
              "        text-align: right;\n",
              "    }\n",
              "</style>\n",
              "<table border=\"1\" class=\"dataframe\">\n",
              "  <thead>\n",
              "    <tr style=\"text-align: right;\">\n",
              "      <th></th>\n",
              "      <th>Account</th>\n",
              "      <th>Effecttive_date</th>\n",
              "      <th>Panel_Status</th>\n",
              "      <th>Panel_Execution_Time</th>\n",
              "      <th>DCS_Status</th>\n",
              "      <th>DCS_Execution_Time</th>\n",
              "      <th>CDR_Success</th>\n",
              "      <th>CDR_Failed</th>\n",
              "      <th>CDR_Total</th>\n",
              "      <th>Benefit_Success</th>\n",
              "      <th>Benefit_Failed</th>\n",
              "      <th>Benefit_Total</th>\n",
              "      <th>Proactive_SMS_Success</th>\n",
              "      <th>Proactive_SMS_Failed</th>\n",
              "      <th>Proactive_SMS_Total</th>\n",
              "      <th>Extracts_Ready</th>\n",
              "      <th>hive-load-logs</th>\n",
              "      <th>hive-load-aggregations</th>\n",
              "      <th>hive-load-decisioning</th>\n",
              "      <th>hive-load-facts</th>\n",
              "      <th>hive-load-metadata</th>\n",
              "      <th>hive-load-panels</th>\n",
              "      <th>hive-high_priority_panels</th>\n",
              "      <th>hive-load-runtime_audit</th>\n",
              "      <th>hive-load-retention</th>\n",
              "      <th>move-roots</th>\n",
              "    </tr>\n",
              "  </thead>\n",
              "  <tbody>\n",
              "    <tr>\n",
              "      <th>0</th>\n",
              "      <td>PLDT</td>\n",
              "      <td>2020-03-30.csv</td>\n",
              "      <td>SUCCEEDED</td>\n",
              "      <td>4:40:53</td>\n",
              "      <td>None</td>\n",
              "      <td>None</td>\n",
              "      <td>0</td>\n",
              "      <td>0</td>\n",
              "      <td>0</td>\n",
              "      <td>0</td>\n",
              "      <td>0</td>\n",
              "      <td>0</td>\n",
              "      <td>507</td>\n",
              "      <td>0</td>\n",
              "      <td>721</td>\n",
              "      <td>0</td>\n",
              "      <td>1</td>\n",
              "      <td>0</td>\n",
              "      <td>0</td>\n",
              "      <td>0</td>\n",
              "      <td>0</td>\n",
              "      <td>0</td>\n",
              "      <td>1</td>\n",
              "      <td>0</td>\n",
              "      <td>0</td>\n",
              "      <td>0</td>\n",
              "    </tr>\n",
              "    <tr>\n",
              "      <th>1</th>\n",
              "      <td>PLDT</td>\n",
              "      <td>2019-10-03.csv</td>\n",
              "      <td>SUCCEEDED</td>\n",
              "      <td>1:58:31</td>\n",
              "      <td>Finished</td>\n",
              "      <td>17:32.2</td>\n",
              "      <td>70</td>\n",
              "      <td>0</td>\n",
              "      <td>70</td>\n",
              "      <td>29</td>\n",
              "      <td>0</td>\n",
              "      <td>70</td>\n",
              "      <td>2410</td>\n",
              "      <td>0</td>\n",
              "      <td>2653</td>\n",
              "      <td>1</td>\n",
              "      <td>1</td>\n",
              "      <td>0</td>\n",
              "      <td>0</td>\n",
              "      <td>0</td>\n",
              "      <td>0</td>\n",
              "      <td>0</td>\n",
              "      <td>1</td>\n",
              "      <td>0</td>\n",
              "      <td>0</td>\n",
              "      <td>0</td>\n",
              "    </tr>\n",
              "    <tr>\n",
              "      <th>2</th>\n",
              "      <td>PLDT</td>\n",
              "      <td>2019-09-18.csv</td>\n",
              "      <td>SUCCEEDED</td>\n",
              "      <td>2:14:57</td>\n",
              "      <td>Finished</td>\n",
              "      <td>29:43.9</td>\n",
              "      <td>20</td>\n",
              "      <td>0</td>\n",
              "      <td>20</td>\n",
              "      <td>16</td>\n",
              "      <td>0</td>\n",
              "      <td>20</td>\n",
              "      <td>9844</td>\n",
              "      <td>0</td>\n",
              "      <td>68778</td>\n",
              "      <td>0</td>\n",
              "      <td>1</td>\n",
              "      <td>0</td>\n",
              "      <td>0</td>\n",
              "      <td>0</td>\n",
              "      <td>0</td>\n",
              "      <td>0</td>\n",
              "      <td>1</td>\n",
              "      <td>0</td>\n",
              "      <td>0</td>\n",
              "      <td>0</td>\n",
              "    </tr>\n",
              "    <tr>\n",
              "      <th>3</th>\n",
              "      <td>PLDT</td>\n",
              "      <td>2019-09-25.csv</td>\n",
              "      <td>SUCCEEDED</td>\n",
              "      <td>4:22:15</td>\n",
              "      <td>Finished</td>\n",
              "      <td>14:38.1</td>\n",
              "      <td>70</td>\n",
              "      <td>0</td>\n",
              "      <td>70</td>\n",
              "      <td>22</td>\n",
              "      <td>0</td>\n",
              "      <td>70</td>\n",
              "      <td>686</td>\n",
              "      <td>0</td>\n",
              "      <td>2538</td>\n",
              "      <td>1</td>\n",
              "      <td>1</td>\n",
              "      <td>0</td>\n",
              "      <td>0</td>\n",
              "      <td>0</td>\n",
              "      <td>0</td>\n",
              "      <td>0</td>\n",
              "      <td>1</td>\n",
              "      <td>0</td>\n",
              "      <td>0</td>\n",
              "      <td>0</td>\n",
              "    </tr>\n",
              "    <tr>\n",
              "      <th>4</th>\n",
              "      <td>PLDT</td>\n",
              "      <td>2019-09-06.csv</td>\n",
              "      <td>SUCCEEDED</td>\n",
              "      <td>0:59:58</td>\n",
              "      <td>Finished</td>\n",
              "      <td>43:32.4</td>\n",
              "      <td>0</td>\n",
              "      <td>0</td>\n",
              "      <td>0</td>\n",
              "      <td>0</td>\n",
              "      <td>0</td>\n",
              "      <td>0</td>\n",
              "      <td>0</td>\n",
              "      <td>0</td>\n",
              "      <td>0</td>\n",
              "      <td>1</td>\n",
              "      <td>1</td>\n",
              "      <td>0</td>\n",
              "      <td>0</td>\n",
              "      <td>0</td>\n",
              "      <td>0</td>\n",
              "      <td>0</td>\n",
              "      <td>1</td>\n",
              "      <td>0</td>\n",
              "      <td>0</td>\n",
              "      <td>0</td>\n",
              "    </tr>\n",
              "  </tbody>\n",
              "</table>\n",
              "</div>"
            ],
            "text/plain": [
              "  Account Effecttive_date  ... hive-load-retention move-roots\n",
              "0    PLDT  2020-03-30.csv  ...                   0          0\n",
              "1    PLDT  2019-10-03.csv  ...                   0          0\n",
              "2    PLDT  2019-09-18.csv  ...                   0          0\n",
              "3    PLDT  2019-09-25.csv  ...                   0          0\n",
              "4    PLDT  2019-09-06.csv  ...                   0          0\n",
              "\n",
              "[5 rows x 26 columns]"
            ]
          },
          "metadata": {
            "tags": []
          },
          "execution_count": 7
        }
      ]
    },
    {
      "cell_type": "code",
      "metadata": {
        "id": "VXk8fZAq861C",
        "outputId": "8f537711-bc56-4db8-d753-a3688c1e0aa2",
        "colab": {
          "base_uri": "https://localhost:8080/",
          "height": 589
        }
      },
      "source": [
        "data_whole.info()"
      ],
      "execution_count": 8,
      "outputs": [
        {
          "output_type": "stream",
          "text": [
            "<class 'pandas.core.frame.DataFrame'>\n",
            "RangeIndex: 276 entries, 0 to 275\n",
            "Data columns (total 26 columns):\n",
            " #   Column                     Non-Null Count  Dtype \n",
            "---  ------                     --------------  ----- \n",
            " 0   Account                    276 non-null    object\n",
            " 1   Effecttive_date            276 non-null    object\n",
            " 2   Panel_Status               276 non-null    object\n",
            " 3   Panel_Execution_Time       276 non-null    object\n",
            " 4   DCS_Status                 276 non-null    object\n",
            " 5   DCS_Execution_Time         276 non-null    object\n",
            " 6   CDR_Success                276 non-null    int64 \n",
            " 7   CDR_Failed                 276 non-null    int64 \n",
            " 8   CDR_Total                  276 non-null    int64 \n",
            " 9   Benefit_Success            276 non-null    int64 \n",
            " 10  Benefit_Failed             276 non-null    int64 \n",
            " 11  Benefit_Total              276 non-null    int64 \n",
            " 12  Proactive_SMS_Success      276 non-null    int64 \n",
            " 13  Proactive_SMS_Failed       276 non-null    int64 \n",
            " 14  Proactive_SMS_Total        276 non-null    int64 \n",
            " 15  Extracts_Ready             276 non-null    int64 \n",
            " 16  hive-load-logs             276 non-null    int64 \n",
            " 17  hive-load-aggregations     276 non-null    int64 \n",
            " 18  hive-load-decisioning      276 non-null    int64 \n",
            " 19  hive-load-facts            276 non-null    int64 \n",
            " 20  hive-load-metadata         276 non-null    int64 \n",
            " 21  hive-load-panels           276 non-null    int64 \n",
            " 22  hive-high_priority_panels  276 non-null    int64 \n",
            " 23  hive-load-runtime_audit    276 non-null    int64 \n",
            " 24  hive-load-retention        276 non-null    int64 \n",
            " 25  move-roots                 276 non-null    int64 \n",
            "dtypes: int64(20), object(6)\n",
            "memory usage: 56.2+ KB\n"
          ],
          "name": "stdout"
        }
      ]
    },
    {
      "cell_type": "code",
      "metadata": {
        "id": "_OnmhdaqLQ1x"
      },
      "source": [
        "data_whole.drop(labels=['Account','Effecttive_date'], axis=1, inplace=True)"
      ],
      "execution_count": 9,
      "outputs": []
    },
    {
      "cell_type": "code",
      "metadata": {
        "id": "WVAADvCTLQrN",
        "outputId": "4a7e37c4-db40-4b80-ed75-b1602c005c83",
        "colab": {
          "base_uri": "https://localhost:8080/",
          "height": 257
        }
      },
      "source": [
        "data_whole.head()"
      ],
      "execution_count": 10,
      "outputs": [
        {
          "output_type": "execute_result",
          "data": {
            "text/html": [
              "<div>\n",
              "<style scoped>\n",
              "    .dataframe tbody tr th:only-of-type {\n",
              "        vertical-align: middle;\n",
              "    }\n",
              "\n",
              "    .dataframe tbody tr th {\n",
              "        vertical-align: top;\n",
              "    }\n",
              "\n",
              "    .dataframe thead th {\n",
              "        text-align: right;\n",
              "    }\n",
              "</style>\n",
              "<table border=\"1\" class=\"dataframe\">\n",
              "  <thead>\n",
              "    <tr style=\"text-align: right;\">\n",
              "      <th></th>\n",
              "      <th>Panel_Status</th>\n",
              "      <th>Panel_Execution_Time</th>\n",
              "      <th>DCS_Status</th>\n",
              "      <th>DCS_Execution_Time</th>\n",
              "      <th>CDR_Success</th>\n",
              "      <th>CDR_Failed</th>\n",
              "      <th>CDR_Total</th>\n",
              "      <th>Benefit_Success</th>\n",
              "      <th>Benefit_Failed</th>\n",
              "      <th>Benefit_Total</th>\n",
              "      <th>Proactive_SMS_Success</th>\n",
              "      <th>Proactive_SMS_Failed</th>\n",
              "      <th>Proactive_SMS_Total</th>\n",
              "      <th>Extracts_Ready</th>\n",
              "      <th>hive-load-logs</th>\n",
              "      <th>hive-load-aggregations</th>\n",
              "      <th>hive-load-decisioning</th>\n",
              "      <th>hive-load-facts</th>\n",
              "      <th>hive-load-metadata</th>\n",
              "      <th>hive-load-panels</th>\n",
              "      <th>hive-high_priority_panels</th>\n",
              "      <th>hive-load-runtime_audit</th>\n",
              "      <th>hive-load-retention</th>\n",
              "      <th>move-roots</th>\n",
              "    </tr>\n",
              "  </thead>\n",
              "  <tbody>\n",
              "    <tr>\n",
              "      <th>0</th>\n",
              "      <td>SUCCEEDED</td>\n",
              "      <td>4:40:53</td>\n",
              "      <td>None</td>\n",
              "      <td>None</td>\n",
              "      <td>0</td>\n",
              "      <td>0</td>\n",
              "      <td>0</td>\n",
              "      <td>0</td>\n",
              "      <td>0</td>\n",
              "      <td>0</td>\n",
              "      <td>507</td>\n",
              "      <td>0</td>\n",
              "      <td>721</td>\n",
              "      <td>0</td>\n",
              "      <td>1</td>\n",
              "      <td>0</td>\n",
              "      <td>0</td>\n",
              "      <td>0</td>\n",
              "      <td>0</td>\n",
              "      <td>0</td>\n",
              "      <td>1</td>\n",
              "      <td>0</td>\n",
              "      <td>0</td>\n",
              "      <td>0</td>\n",
              "    </tr>\n",
              "    <tr>\n",
              "      <th>1</th>\n",
              "      <td>SUCCEEDED</td>\n",
              "      <td>1:58:31</td>\n",
              "      <td>Finished</td>\n",
              "      <td>17:32.2</td>\n",
              "      <td>70</td>\n",
              "      <td>0</td>\n",
              "      <td>70</td>\n",
              "      <td>29</td>\n",
              "      <td>0</td>\n",
              "      <td>70</td>\n",
              "      <td>2410</td>\n",
              "      <td>0</td>\n",
              "      <td>2653</td>\n",
              "      <td>1</td>\n",
              "      <td>1</td>\n",
              "      <td>0</td>\n",
              "      <td>0</td>\n",
              "      <td>0</td>\n",
              "      <td>0</td>\n",
              "      <td>0</td>\n",
              "      <td>1</td>\n",
              "      <td>0</td>\n",
              "      <td>0</td>\n",
              "      <td>0</td>\n",
              "    </tr>\n",
              "    <tr>\n",
              "      <th>2</th>\n",
              "      <td>SUCCEEDED</td>\n",
              "      <td>2:14:57</td>\n",
              "      <td>Finished</td>\n",
              "      <td>29:43.9</td>\n",
              "      <td>20</td>\n",
              "      <td>0</td>\n",
              "      <td>20</td>\n",
              "      <td>16</td>\n",
              "      <td>0</td>\n",
              "      <td>20</td>\n",
              "      <td>9844</td>\n",
              "      <td>0</td>\n",
              "      <td>68778</td>\n",
              "      <td>0</td>\n",
              "      <td>1</td>\n",
              "      <td>0</td>\n",
              "      <td>0</td>\n",
              "      <td>0</td>\n",
              "      <td>0</td>\n",
              "      <td>0</td>\n",
              "      <td>1</td>\n",
              "      <td>0</td>\n",
              "      <td>0</td>\n",
              "      <td>0</td>\n",
              "    </tr>\n",
              "    <tr>\n",
              "      <th>3</th>\n",
              "      <td>SUCCEEDED</td>\n",
              "      <td>4:22:15</td>\n",
              "      <td>Finished</td>\n",
              "      <td>14:38.1</td>\n",
              "      <td>70</td>\n",
              "      <td>0</td>\n",
              "      <td>70</td>\n",
              "      <td>22</td>\n",
              "      <td>0</td>\n",
              "      <td>70</td>\n",
              "      <td>686</td>\n",
              "      <td>0</td>\n",
              "      <td>2538</td>\n",
              "      <td>1</td>\n",
              "      <td>1</td>\n",
              "      <td>0</td>\n",
              "      <td>0</td>\n",
              "      <td>0</td>\n",
              "      <td>0</td>\n",
              "      <td>0</td>\n",
              "      <td>1</td>\n",
              "      <td>0</td>\n",
              "      <td>0</td>\n",
              "      <td>0</td>\n",
              "    </tr>\n",
              "    <tr>\n",
              "      <th>4</th>\n",
              "      <td>SUCCEEDED</td>\n",
              "      <td>0:59:58</td>\n",
              "      <td>Finished</td>\n",
              "      <td>43:32.4</td>\n",
              "      <td>0</td>\n",
              "      <td>0</td>\n",
              "      <td>0</td>\n",
              "      <td>0</td>\n",
              "      <td>0</td>\n",
              "      <td>0</td>\n",
              "      <td>0</td>\n",
              "      <td>0</td>\n",
              "      <td>0</td>\n",
              "      <td>1</td>\n",
              "      <td>1</td>\n",
              "      <td>0</td>\n",
              "      <td>0</td>\n",
              "      <td>0</td>\n",
              "      <td>0</td>\n",
              "      <td>0</td>\n",
              "      <td>1</td>\n",
              "      <td>0</td>\n",
              "      <td>0</td>\n",
              "      <td>0</td>\n",
              "    </tr>\n",
              "  </tbody>\n",
              "</table>\n",
              "</div>"
            ],
            "text/plain": [
              "  Panel_Status Panel_Execution_Time  ... hive-load-retention move-roots\n",
              "0    SUCCEEDED              4:40:53  ...                   0          0\n",
              "1    SUCCEEDED              1:58:31  ...                   0          0\n",
              "2    SUCCEEDED              2:14:57  ...                   0          0\n",
              "3    SUCCEEDED              4:22:15  ...                   0          0\n",
              "4    SUCCEEDED              0:59:58  ...                   0          0\n",
              "\n",
              "[5 rows x 24 columns]"
            ]
          },
          "metadata": {
            "tags": []
          },
          "execution_count": 10
        }
      ]
    },
    {
      "cell_type": "code",
      "metadata": {
        "id": "R8y8Z94BVMgo",
        "outputId": "402cf02b-185a-4af4-f499-a2dc620fe994",
        "colab": {
          "base_uri": "https://localhost:8080/",
          "height": 555
        }
      },
      "source": [
        "data_whole = data_whole.astype({'Panel_Status':'category', 'DCS_Status':'category'})\n",
        "data_whole.info()"
      ],
      "execution_count": 11,
      "outputs": [
        {
          "output_type": "stream",
          "text": [
            "<class 'pandas.core.frame.DataFrame'>\n",
            "RangeIndex: 276 entries, 0 to 275\n",
            "Data columns (total 24 columns):\n",
            " #   Column                     Non-Null Count  Dtype   \n",
            "---  ------                     --------------  -----   \n",
            " 0   Panel_Status               276 non-null    category\n",
            " 1   Panel_Execution_Time       276 non-null    object  \n",
            " 2   DCS_Status                 276 non-null    category\n",
            " 3   DCS_Execution_Time         276 non-null    object  \n",
            " 4   CDR_Success                276 non-null    int64   \n",
            " 5   CDR_Failed                 276 non-null    int64   \n",
            " 6   CDR_Total                  276 non-null    int64   \n",
            " 7   Benefit_Success            276 non-null    int64   \n",
            " 8   Benefit_Failed             276 non-null    int64   \n",
            " 9   Benefit_Total              276 non-null    int64   \n",
            " 10  Proactive_SMS_Success      276 non-null    int64   \n",
            " 11  Proactive_SMS_Failed       276 non-null    int64   \n",
            " 12  Proactive_SMS_Total        276 non-null    int64   \n",
            " 13  Extracts_Ready             276 non-null    int64   \n",
            " 14  hive-load-logs             276 non-null    int64   \n",
            " 15  hive-load-aggregations     276 non-null    int64   \n",
            " 16  hive-load-decisioning      276 non-null    int64   \n",
            " 17  hive-load-facts            276 non-null    int64   \n",
            " 18  hive-load-metadata         276 non-null    int64   \n",
            " 19  hive-load-panels           276 non-null    int64   \n",
            " 20  hive-high_priority_panels  276 non-null    int64   \n",
            " 21  hive-load-runtime_audit    276 non-null    int64   \n",
            " 22  hive-load-retention        276 non-null    int64   \n",
            " 23  move-roots                 276 non-null    int64   \n",
            "dtypes: category(2), int64(20), object(2)\n",
            "memory usage: 48.4+ KB\n"
          ],
          "name": "stdout"
        }
      ]
    },
    {
      "cell_type": "code",
      "metadata": {
        "id": "JOL9xPv0i6pZ",
        "outputId": "33a2eb1a-75b4-4ef6-d877-5e5ec18c4899",
        "colab": {
          "base_uri": "https://localhost:8080/",
          "height": 257
        }
      },
      "source": [
        "data_whole.head()"
      ],
      "execution_count": 12,
      "outputs": [
        {
          "output_type": "execute_result",
          "data": {
            "text/html": [
              "<div>\n",
              "<style scoped>\n",
              "    .dataframe tbody tr th:only-of-type {\n",
              "        vertical-align: middle;\n",
              "    }\n",
              "\n",
              "    .dataframe tbody tr th {\n",
              "        vertical-align: top;\n",
              "    }\n",
              "\n",
              "    .dataframe thead th {\n",
              "        text-align: right;\n",
              "    }\n",
              "</style>\n",
              "<table border=\"1\" class=\"dataframe\">\n",
              "  <thead>\n",
              "    <tr style=\"text-align: right;\">\n",
              "      <th></th>\n",
              "      <th>Panel_Status</th>\n",
              "      <th>Panel_Execution_Time</th>\n",
              "      <th>DCS_Status</th>\n",
              "      <th>DCS_Execution_Time</th>\n",
              "      <th>CDR_Success</th>\n",
              "      <th>CDR_Failed</th>\n",
              "      <th>CDR_Total</th>\n",
              "      <th>Benefit_Success</th>\n",
              "      <th>Benefit_Failed</th>\n",
              "      <th>Benefit_Total</th>\n",
              "      <th>Proactive_SMS_Success</th>\n",
              "      <th>Proactive_SMS_Failed</th>\n",
              "      <th>Proactive_SMS_Total</th>\n",
              "      <th>Extracts_Ready</th>\n",
              "      <th>hive-load-logs</th>\n",
              "      <th>hive-load-aggregations</th>\n",
              "      <th>hive-load-decisioning</th>\n",
              "      <th>hive-load-facts</th>\n",
              "      <th>hive-load-metadata</th>\n",
              "      <th>hive-load-panels</th>\n",
              "      <th>hive-high_priority_panels</th>\n",
              "      <th>hive-load-runtime_audit</th>\n",
              "      <th>hive-load-retention</th>\n",
              "      <th>move-roots</th>\n",
              "    </tr>\n",
              "  </thead>\n",
              "  <tbody>\n",
              "    <tr>\n",
              "      <th>0</th>\n",
              "      <td>SUCCEEDED</td>\n",
              "      <td>4:40:53</td>\n",
              "      <td>None</td>\n",
              "      <td>None</td>\n",
              "      <td>0</td>\n",
              "      <td>0</td>\n",
              "      <td>0</td>\n",
              "      <td>0</td>\n",
              "      <td>0</td>\n",
              "      <td>0</td>\n",
              "      <td>507</td>\n",
              "      <td>0</td>\n",
              "      <td>721</td>\n",
              "      <td>0</td>\n",
              "      <td>1</td>\n",
              "      <td>0</td>\n",
              "      <td>0</td>\n",
              "      <td>0</td>\n",
              "      <td>0</td>\n",
              "      <td>0</td>\n",
              "      <td>1</td>\n",
              "      <td>0</td>\n",
              "      <td>0</td>\n",
              "      <td>0</td>\n",
              "    </tr>\n",
              "    <tr>\n",
              "      <th>1</th>\n",
              "      <td>SUCCEEDED</td>\n",
              "      <td>1:58:31</td>\n",
              "      <td>Finished</td>\n",
              "      <td>17:32.2</td>\n",
              "      <td>70</td>\n",
              "      <td>0</td>\n",
              "      <td>70</td>\n",
              "      <td>29</td>\n",
              "      <td>0</td>\n",
              "      <td>70</td>\n",
              "      <td>2410</td>\n",
              "      <td>0</td>\n",
              "      <td>2653</td>\n",
              "      <td>1</td>\n",
              "      <td>1</td>\n",
              "      <td>0</td>\n",
              "      <td>0</td>\n",
              "      <td>0</td>\n",
              "      <td>0</td>\n",
              "      <td>0</td>\n",
              "      <td>1</td>\n",
              "      <td>0</td>\n",
              "      <td>0</td>\n",
              "      <td>0</td>\n",
              "    </tr>\n",
              "    <tr>\n",
              "      <th>2</th>\n",
              "      <td>SUCCEEDED</td>\n",
              "      <td>2:14:57</td>\n",
              "      <td>Finished</td>\n",
              "      <td>29:43.9</td>\n",
              "      <td>20</td>\n",
              "      <td>0</td>\n",
              "      <td>20</td>\n",
              "      <td>16</td>\n",
              "      <td>0</td>\n",
              "      <td>20</td>\n",
              "      <td>9844</td>\n",
              "      <td>0</td>\n",
              "      <td>68778</td>\n",
              "      <td>0</td>\n",
              "      <td>1</td>\n",
              "      <td>0</td>\n",
              "      <td>0</td>\n",
              "      <td>0</td>\n",
              "      <td>0</td>\n",
              "      <td>0</td>\n",
              "      <td>1</td>\n",
              "      <td>0</td>\n",
              "      <td>0</td>\n",
              "      <td>0</td>\n",
              "    </tr>\n",
              "    <tr>\n",
              "      <th>3</th>\n",
              "      <td>SUCCEEDED</td>\n",
              "      <td>4:22:15</td>\n",
              "      <td>Finished</td>\n",
              "      <td>14:38.1</td>\n",
              "      <td>70</td>\n",
              "      <td>0</td>\n",
              "      <td>70</td>\n",
              "      <td>22</td>\n",
              "      <td>0</td>\n",
              "      <td>70</td>\n",
              "      <td>686</td>\n",
              "      <td>0</td>\n",
              "      <td>2538</td>\n",
              "      <td>1</td>\n",
              "      <td>1</td>\n",
              "      <td>0</td>\n",
              "      <td>0</td>\n",
              "      <td>0</td>\n",
              "      <td>0</td>\n",
              "      <td>0</td>\n",
              "      <td>1</td>\n",
              "      <td>0</td>\n",
              "      <td>0</td>\n",
              "      <td>0</td>\n",
              "    </tr>\n",
              "    <tr>\n",
              "      <th>4</th>\n",
              "      <td>SUCCEEDED</td>\n",
              "      <td>0:59:58</td>\n",
              "      <td>Finished</td>\n",
              "      <td>43:32.4</td>\n",
              "      <td>0</td>\n",
              "      <td>0</td>\n",
              "      <td>0</td>\n",
              "      <td>0</td>\n",
              "      <td>0</td>\n",
              "      <td>0</td>\n",
              "      <td>0</td>\n",
              "      <td>0</td>\n",
              "      <td>0</td>\n",
              "      <td>1</td>\n",
              "      <td>1</td>\n",
              "      <td>0</td>\n",
              "      <td>0</td>\n",
              "      <td>0</td>\n",
              "      <td>0</td>\n",
              "      <td>0</td>\n",
              "      <td>1</td>\n",
              "      <td>0</td>\n",
              "      <td>0</td>\n",
              "      <td>0</td>\n",
              "    </tr>\n",
              "  </tbody>\n",
              "</table>\n",
              "</div>"
            ],
            "text/plain": [
              "  Panel_Status Panel_Execution_Time  ... hive-load-retention move-roots\n",
              "0    SUCCEEDED              4:40:53  ...                   0          0\n",
              "1    SUCCEEDED              1:58:31  ...                   0          0\n",
              "2    SUCCEEDED              2:14:57  ...                   0          0\n",
              "3    SUCCEEDED              4:22:15  ...                   0          0\n",
              "4    SUCCEEDED              0:59:58  ...                   0          0\n",
              "\n",
              "[5 rows x 24 columns]"
            ]
          },
          "metadata": {
            "tags": []
          },
          "execution_count": 12
        }
      ]
    },
    {
      "cell_type": "code",
      "metadata": {
        "id": "41OEb2TF046R",
        "outputId": "bc70e884-a8c2-4fed-96e2-35709f89fd17",
        "colab": {
          "base_uri": "https://localhost:8080/",
          "height": 225
        }
      },
      "source": [
        "data_whole['Panel_Execution_Time'] = convert_time_to_sec(data_whole['Panel_Execution_Time'])\n",
        "data_whole['Panel_Execution_Time']"
      ],
      "execution_count": 13,
      "outputs": [
        {
          "output_type": "execute_result",
          "data": {
            "text/plain": [
              "0      16853\n",
              "1       7111\n",
              "2       8097\n",
              "3      15735\n",
              "4       3598\n",
              "       ...  \n",
              "271    15457\n",
              "272    17572\n",
              "273     8338\n",
              "274     7783\n",
              "275    17275\n",
              "Name: Panel_Execution_Time, Length: 276, dtype: int64"
            ]
          },
          "metadata": {
            "tags": []
          },
          "execution_count": 13
        }
      ]
    },
    {
      "cell_type": "code",
      "metadata": {
        "id": "DBHkoYRdm4iX",
        "outputId": "64f53eb1-416f-43cd-9f77-637c80be04e5",
        "colab": {
          "base_uri": "https://localhost:8080/",
          "height": 312
        }
      },
      "source": [
        "data_whole['DCS_Execution_Time'].replace(\"None\", np.NaN, inplace=True)\n",
        "data_whole['DCS_Execution_Time'].unique()"
      ],
      "execution_count": 14,
      "outputs": [
        {
          "output_type": "execute_result",
          "data": {
            "text/plain": [
              "array([nan, '17:32.2', '29:43.9', '14:38.1', '43:32.4', '36:42.8',\n",
              "       '00:29.2', '52:49.0', '52:42.8', '45:38.1', '13:58.2', '38:42.9',\n",
              "       '16:21.1', '27:18.9', '34:42.6', '31:42.9', '08:18.7', '47:42.7',\n",
              "       '18:19.1', '49:42.8', '55:18.4', '00:34.8', '51:42.8', '08:47.9',\n",
              "       '32:42.7', '18:21.4', '47:03.9', '33:25.1', '33:57.9', '37:42.8',\n",
              "       '28:47.6', '32:42.8', '39:42.8', '08:01.0', '26:40.1', '36:47.6',\n",
              "       '18:34.5', '40:42.8', 'NOT_STARETD', '17:30.4', '01:24.5',\n",
              "       '43:42.9', '35:42.5', '48:16.6', '25:18.8', '57:50.7', '39:47.5',\n",
              "       '27:47.6', '49:02.2', '52:01.5', '27:26.4', '21:28.2', '36:02.2',\n",
              "       '09:29.2', '16:21.5', '08:32.0', '28:47.5', '16:27.6', '23:13.3',\n",
              "       '36:01.7', '12:56.2', '55:47.9', '49:16.4', '43:24.1', '02:10.9',\n",
              "       '16:57.7', '16:57.1', '26:25.3', '36:42.9', '38:42.7', '06:51.0',\n",
              "       '37:21.5', '34:42.5', '39:42.7', '09:27.1', '35:47.6', '50:42.7',\n",
              "       '08:53.2', '23:21.2', '19:12.8', '15:14.8', '02:54.4', '53:28.6',\n",
              "       '33:42.7', '43:42.7', '49:36.4', '01:06.1', '29:48.0', '48:42.7',\n",
              "       '10:40.5', '54:26.7', '30:33.6', '14:23.4', '27:50.9', '04:10.6'],\n",
              "      dtype=object)"
            ]
          },
          "metadata": {
            "tags": []
          },
          "execution_count": 14
        }
      ]
    },
    {
      "cell_type": "code",
      "metadata": {
        "id": "2mZhFh4lmwzs"
      },
      "source": [
        "data_whole['DCS_Execution_Time'] = data_whole['DCS_Execution_Time'].replace('NOT_STARETD', np.nan)"
      ],
      "execution_count": 15,
      "outputs": []
    },
    {
      "cell_type": "code",
      "metadata": {
        "id": "cySoADUlmq53",
        "outputId": "05ba3f83-4891-477f-beac-712822184baf",
        "colab": {
          "base_uri": "https://localhost:8080/",
          "height": 225
        }
      },
      "source": [
        "data_whole['DCS_Execution_Time'] = convert_time_to_sec(data_whole['DCS_Execution_Time'])\n",
        "data_whole['DCS_Execution_Time']"
      ],
      "execution_count": 16,
      "outputs": [
        {
          "output_type": "execute_result",
          "data": {
            "text/plain": [
              "0         NaN\n",
              "1      1052.0\n",
              "2      1783.0\n",
              "3       878.0\n",
              "4      2612.0\n",
              "        ...  \n",
              "271       NaN\n",
              "272       NaN\n",
              "273    1670.0\n",
              "274     250.0\n",
              "275       NaN\n",
              "Name: DCS_Execution_Time, Length: 276, dtype: float64"
            ]
          },
          "metadata": {
            "tags": []
          },
          "execution_count": 16
        }
      ]
    },
    {
      "cell_type": "code",
      "metadata": {
        "id": "kXAaX6Ymy0ck",
        "outputId": "143f0d87-82a5-4c2c-a97c-4c08b863c650",
        "colab": {
          "base_uri": "https://localhost:8080/",
          "height": 555
        }
      },
      "source": [
        "data_whole.info()"
      ],
      "execution_count": 17,
      "outputs": [
        {
          "output_type": "stream",
          "text": [
            "<class 'pandas.core.frame.DataFrame'>\n",
            "RangeIndex: 276 entries, 0 to 275\n",
            "Data columns (total 24 columns):\n",
            " #   Column                     Non-Null Count  Dtype   \n",
            "---  ------                     --------------  -----   \n",
            " 0   Panel_Status               276 non-null    category\n",
            " 1   Panel_Execution_Time       276 non-null    int64   \n",
            " 2   DCS_Status                 276 non-null    category\n",
            " 3   DCS_Execution_Time         96 non-null     float64 \n",
            " 4   CDR_Success                276 non-null    int64   \n",
            " 5   CDR_Failed                 276 non-null    int64   \n",
            " 6   CDR_Total                  276 non-null    int64   \n",
            " 7   Benefit_Success            276 non-null    int64   \n",
            " 8   Benefit_Failed             276 non-null    int64   \n",
            " 9   Benefit_Total              276 non-null    int64   \n",
            " 10  Proactive_SMS_Success      276 non-null    int64   \n",
            " 11  Proactive_SMS_Failed       276 non-null    int64   \n",
            " 12  Proactive_SMS_Total        276 non-null    int64   \n",
            " 13  Extracts_Ready             276 non-null    int64   \n",
            " 14  hive-load-logs             276 non-null    int64   \n",
            " 15  hive-load-aggregations     276 non-null    int64   \n",
            " 16  hive-load-decisioning      276 non-null    int64   \n",
            " 17  hive-load-facts            276 non-null    int64   \n",
            " 18  hive-load-metadata         276 non-null    int64   \n",
            " 19  hive-load-panels           276 non-null    int64   \n",
            " 20  hive-high_priority_panels  276 non-null    int64   \n",
            " 21  hive-load-runtime_audit    276 non-null    int64   \n",
            " 22  hive-load-retention        276 non-null    int64   \n",
            " 23  move-roots                 276 non-null    int64   \n",
            "dtypes: category(2), float64(1), int64(21)\n",
            "memory usage: 48.4 KB\n"
          ],
          "name": "stdout"
        }
      ]
    },
    {
      "cell_type": "code",
      "metadata": {
        "id": "Q132SzYaojom"
      },
      "source": [
        "data_whole1 = pd.get_dummies(data = data_whole, columns=['Panel_Status', 'DCS_Status']).head()\n"
      ],
      "execution_count": 18,
      "outputs": []
    },
    {
      "cell_type": "code",
      "metadata": {
        "id": "jUttS6zs1aeL"
      },
      "source": [
        "data_whole1.head()\n",
        "column_name = data_whole1.columns"
      ],
      "execution_count": 31,
      "outputs": []
    },
    {
      "cell_type": "code",
      "metadata": {
        "id": "ZpmrrIL08-Pj"
      },
      "source": [
        "from sklearn.impute import KNNImputer\n",
        "\n",
        "imputer = KNNImputer(n_neighbors=3)\n",
        "imputed_data = imputer.fit_transform(data_whole1)"
      ],
      "execution_count": 32,
      "outputs": []
    },
    {
      "cell_type": "code",
      "metadata": {
        "id": "DUNTa1S7XXNf",
        "outputId": "2c57bd5f-6d2f-4f09-f9d5-81467d627755",
        "colab": {
          "base_uri": "https://localhost:8080/",
          "height": 274
        }
      },
      "source": [
        "print (type(imputed_data))\n",
        "imputed_dataframe = pd.DataFrame(data=imputed_data, columns=column_name)\n",
        "imputed_dataframe.head()"
      ],
      "execution_count": 33,
      "outputs": [
        {
          "output_type": "stream",
          "text": [
            "<class 'numpy.ndarray'>\n"
          ],
          "name": "stdout"
        },
        {
          "output_type": "execute_result",
          "data": {
            "text/html": [
              "<div>\n",
              "<style scoped>\n",
              "    .dataframe tbody tr th:only-of-type {\n",
              "        vertical-align: middle;\n",
              "    }\n",
              "\n",
              "    .dataframe tbody tr th {\n",
              "        vertical-align: top;\n",
              "    }\n",
              "\n",
              "    .dataframe thead th {\n",
              "        text-align: right;\n",
              "    }\n",
              "</style>\n",
              "<table border=\"1\" class=\"dataframe\">\n",
              "  <thead>\n",
              "    <tr style=\"text-align: right;\">\n",
              "      <th></th>\n",
              "      <th>Panel_Execution_Time</th>\n",
              "      <th>DCS_Execution_Time</th>\n",
              "      <th>CDR_Success</th>\n",
              "      <th>CDR_Failed</th>\n",
              "      <th>CDR_Total</th>\n",
              "      <th>Benefit_Success</th>\n",
              "      <th>Benefit_Failed</th>\n",
              "      <th>Benefit_Total</th>\n",
              "      <th>Proactive_SMS_Success</th>\n",
              "      <th>Proactive_SMS_Failed</th>\n",
              "      <th>Proactive_SMS_Total</th>\n",
              "      <th>Extracts_Ready</th>\n",
              "      <th>hive-load-logs</th>\n",
              "      <th>hive-load-aggregations</th>\n",
              "      <th>hive-load-decisioning</th>\n",
              "      <th>hive-load-facts</th>\n",
              "      <th>hive-load-metadata</th>\n",
              "      <th>hive-load-panels</th>\n",
              "      <th>hive-high_priority_panels</th>\n",
              "      <th>hive-load-runtime_audit</th>\n",
              "      <th>hive-load-retention</th>\n",
              "      <th>move-roots</th>\n",
              "      <th>Panel_Status_KILLED</th>\n",
              "      <th>Panel_Status_SUCCEEDED</th>\n",
              "      <th>DCS_Status_Cancelled</th>\n",
              "      <th>DCS_Status_Finished</th>\n",
              "      <th>DCS_Status_NOT_STARTED</th>\n",
              "      <th>DCS_Status_New</th>\n",
              "      <th>DCS_Status_None</th>\n",
              "    </tr>\n",
              "  </thead>\n",
              "  <tbody>\n",
              "    <tr>\n",
              "      <th>0</th>\n",
              "      <td>16853.0</td>\n",
              "      <td>1514.0</td>\n",
              "      <td>0.0</td>\n",
              "      <td>0.0</td>\n",
              "      <td>0.0</td>\n",
              "      <td>0.0</td>\n",
              "      <td>0.0</td>\n",
              "      <td>0.0</td>\n",
              "      <td>507.0</td>\n",
              "      <td>0.0</td>\n",
              "      <td>721.0</td>\n",
              "      <td>0.0</td>\n",
              "      <td>1.0</td>\n",
              "      <td>0.0</td>\n",
              "      <td>0.0</td>\n",
              "      <td>0.0</td>\n",
              "      <td>0.0</td>\n",
              "      <td>0.0</td>\n",
              "      <td>1.0</td>\n",
              "      <td>0.0</td>\n",
              "      <td>0.0</td>\n",
              "      <td>0.0</td>\n",
              "      <td>0.0</td>\n",
              "      <td>1.0</td>\n",
              "      <td>0.0</td>\n",
              "      <td>0.0</td>\n",
              "      <td>0.0</td>\n",
              "      <td>0.0</td>\n",
              "      <td>1.0</td>\n",
              "    </tr>\n",
              "    <tr>\n",
              "      <th>1</th>\n",
              "      <td>7111.0</td>\n",
              "      <td>1052.0</td>\n",
              "      <td>70.0</td>\n",
              "      <td>0.0</td>\n",
              "      <td>70.0</td>\n",
              "      <td>29.0</td>\n",
              "      <td>0.0</td>\n",
              "      <td>70.0</td>\n",
              "      <td>2410.0</td>\n",
              "      <td>0.0</td>\n",
              "      <td>2653.0</td>\n",
              "      <td>1.0</td>\n",
              "      <td>1.0</td>\n",
              "      <td>0.0</td>\n",
              "      <td>0.0</td>\n",
              "      <td>0.0</td>\n",
              "      <td>0.0</td>\n",
              "      <td>0.0</td>\n",
              "      <td>1.0</td>\n",
              "      <td>0.0</td>\n",
              "      <td>0.0</td>\n",
              "      <td>0.0</td>\n",
              "      <td>0.0</td>\n",
              "      <td>1.0</td>\n",
              "      <td>0.0</td>\n",
              "      <td>1.0</td>\n",
              "      <td>0.0</td>\n",
              "      <td>0.0</td>\n",
              "      <td>0.0</td>\n",
              "    </tr>\n",
              "    <tr>\n",
              "      <th>2</th>\n",
              "      <td>8097.0</td>\n",
              "      <td>1783.0</td>\n",
              "      <td>20.0</td>\n",
              "      <td>0.0</td>\n",
              "      <td>20.0</td>\n",
              "      <td>16.0</td>\n",
              "      <td>0.0</td>\n",
              "      <td>20.0</td>\n",
              "      <td>9844.0</td>\n",
              "      <td>0.0</td>\n",
              "      <td>68778.0</td>\n",
              "      <td>0.0</td>\n",
              "      <td>1.0</td>\n",
              "      <td>0.0</td>\n",
              "      <td>0.0</td>\n",
              "      <td>0.0</td>\n",
              "      <td>0.0</td>\n",
              "      <td>0.0</td>\n",
              "      <td>1.0</td>\n",
              "      <td>0.0</td>\n",
              "      <td>0.0</td>\n",
              "      <td>0.0</td>\n",
              "      <td>0.0</td>\n",
              "      <td>1.0</td>\n",
              "      <td>0.0</td>\n",
              "      <td>1.0</td>\n",
              "      <td>0.0</td>\n",
              "      <td>0.0</td>\n",
              "      <td>0.0</td>\n",
              "    </tr>\n",
              "    <tr>\n",
              "      <th>3</th>\n",
              "      <td>15735.0</td>\n",
              "      <td>878.0</td>\n",
              "      <td>70.0</td>\n",
              "      <td>0.0</td>\n",
              "      <td>70.0</td>\n",
              "      <td>22.0</td>\n",
              "      <td>0.0</td>\n",
              "      <td>70.0</td>\n",
              "      <td>686.0</td>\n",
              "      <td>0.0</td>\n",
              "      <td>2538.0</td>\n",
              "      <td>1.0</td>\n",
              "      <td>1.0</td>\n",
              "      <td>0.0</td>\n",
              "      <td>0.0</td>\n",
              "      <td>0.0</td>\n",
              "      <td>0.0</td>\n",
              "      <td>0.0</td>\n",
              "      <td>1.0</td>\n",
              "      <td>0.0</td>\n",
              "      <td>0.0</td>\n",
              "      <td>0.0</td>\n",
              "      <td>0.0</td>\n",
              "      <td>1.0</td>\n",
              "      <td>0.0</td>\n",
              "      <td>1.0</td>\n",
              "      <td>0.0</td>\n",
              "      <td>0.0</td>\n",
              "      <td>0.0</td>\n",
              "    </tr>\n",
              "    <tr>\n",
              "      <th>4</th>\n",
              "      <td>3598.0</td>\n",
              "      <td>2612.0</td>\n",
              "      <td>0.0</td>\n",
              "      <td>0.0</td>\n",
              "      <td>0.0</td>\n",
              "      <td>0.0</td>\n",
              "      <td>0.0</td>\n",
              "      <td>0.0</td>\n",
              "      <td>0.0</td>\n",
              "      <td>0.0</td>\n",
              "      <td>0.0</td>\n",
              "      <td>1.0</td>\n",
              "      <td>1.0</td>\n",
              "      <td>0.0</td>\n",
              "      <td>0.0</td>\n",
              "      <td>0.0</td>\n",
              "      <td>0.0</td>\n",
              "      <td>0.0</td>\n",
              "      <td>1.0</td>\n",
              "      <td>0.0</td>\n",
              "      <td>0.0</td>\n",
              "      <td>0.0</td>\n",
              "      <td>0.0</td>\n",
              "      <td>1.0</td>\n",
              "      <td>0.0</td>\n",
              "      <td>1.0</td>\n",
              "      <td>0.0</td>\n",
              "      <td>0.0</td>\n",
              "      <td>0.0</td>\n",
              "    </tr>\n",
              "  </tbody>\n",
              "</table>\n",
              "</div>"
            ],
            "text/plain": [
              "   Panel_Execution_Time  DCS_Execution_Time  ...  DCS_Status_New  DCS_Status_None\n",
              "0               16853.0              1514.0  ...             0.0              1.0\n",
              "1                7111.0              1052.0  ...             0.0              0.0\n",
              "2                8097.0              1783.0  ...             0.0              0.0\n",
              "3               15735.0               878.0  ...             0.0              0.0\n",
              "4                3598.0              2612.0  ...             0.0              0.0\n",
              "\n",
              "[5 rows x 29 columns]"
            ]
          },
          "metadata": {
            "tags": []
          },
          "execution_count": 33
        }
      ]
    },
    {
      "cell_type": "markdown",
      "metadata": {
        "id": "BheyxPKXUcnf"
      },
      "source": [
        "# Imputations using MICE. \n",
        "Need a seperate package to be installed -> impyute"
      ]
    },
    {
      "cell_type": "code",
      "metadata": {
        "id": "CBHX7X2j0aq6",
        "outputId": "b7dcffcb-24c5-40e1-9233-4e0955d6a7f0",
        "colab": {
          "base_uri": "https://localhost:8080/",
          "height": 176
        }
      },
      "source": [
        "!pip install impyute"
      ],
      "execution_count": 2,
      "outputs": [
        {
          "output_type": "stream",
          "text": [
            "Collecting impyute\n",
            "  Downloading https://files.pythonhosted.org/packages/37/28/86829f67c9affb847facaab94687761d3555539ec675f7577778c5b2680a/impyute-0.0.8-py2.py3-none-any.whl\n",
            "Requirement already satisfied: numpy in /usr/local/lib/python3.6/dist-packages (from impyute) (1.18.5)\n",
            "Requirement already satisfied: scikit-learn in /usr/local/lib/python3.6/dist-packages (from impyute) (0.22.2.post1)\n",
            "Requirement already satisfied: scipy in /usr/local/lib/python3.6/dist-packages (from impyute) (1.4.1)\n",
            "Requirement already satisfied: joblib>=0.11 in /usr/local/lib/python3.6/dist-packages (from scikit-learn->impyute) (0.16.0)\n",
            "Installing collected packages: impyute\n",
            "Successfully installed impyute-0.0.8\n"
          ],
          "name": "stdout"
        }
      ]
    },
    {
      "cell_type": "code",
      "metadata": {
        "id": "FNkIR2Nt2J1x"
      },
      "source": [
        "from impyute.imputation.cs import mice\n",
        "imputed_mice = mice(data_whole1.values)"
      ],
      "execution_count": 25,
      "outputs": []
    },
    {
      "cell_type": "code",
      "metadata": {
        "id": "O1qIR_PMUCeT",
        "outputId": "b958696f-4653-4909-9544-6f2b19b94c28",
        "colab": {
          "base_uri": "https://localhost:8080/",
          "height": 257
        }
      },
      "source": [
        "imputed_mice_df = pd.DataFrame(data=imputed_mice, columns=column_name)\n",
        "imputed_mice_df.head()"
      ],
      "execution_count": 34,
      "outputs": [
        {
          "output_type": "execute_result",
          "data": {
            "text/html": [
              "<div>\n",
              "<style scoped>\n",
              "    .dataframe tbody tr th:only-of-type {\n",
              "        vertical-align: middle;\n",
              "    }\n",
              "\n",
              "    .dataframe tbody tr th {\n",
              "        vertical-align: top;\n",
              "    }\n",
              "\n",
              "    .dataframe thead th {\n",
              "        text-align: right;\n",
              "    }\n",
              "</style>\n",
              "<table border=\"1\" class=\"dataframe\">\n",
              "  <thead>\n",
              "    <tr style=\"text-align: right;\">\n",
              "      <th></th>\n",
              "      <th>Panel_Execution_Time</th>\n",
              "      <th>DCS_Execution_Time</th>\n",
              "      <th>CDR_Success</th>\n",
              "      <th>CDR_Failed</th>\n",
              "      <th>CDR_Total</th>\n",
              "      <th>Benefit_Success</th>\n",
              "      <th>Benefit_Failed</th>\n",
              "      <th>Benefit_Total</th>\n",
              "      <th>Proactive_SMS_Success</th>\n",
              "      <th>Proactive_SMS_Failed</th>\n",
              "      <th>Proactive_SMS_Total</th>\n",
              "      <th>Extracts_Ready</th>\n",
              "      <th>hive-load-logs</th>\n",
              "      <th>hive-load-aggregations</th>\n",
              "      <th>hive-load-decisioning</th>\n",
              "      <th>hive-load-facts</th>\n",
              "      <th>hive-load-metadata</th>\n",
              "      <th>hive-load-panels</th>\n",
              "      <th>hive-high_priority_panels</th>\n",
              "      <th>hive-load-runtime_audit</th>\n",
              "      <th>hive-load-retention</th>\n",
              "      <th>move-roots</th>\n",
              "      <th>Panel_Status_KILLED</th>\n",
              "      <th>Panel_Status_SUCCEEDED</th>\n",
              "      <th>DCS_Status_Cancelled</th>\n",
              "      <th>DCS_Status_Finished</th>\n",
              "      <th>DCS_Status_NOT_STARTED</th>\n",
              "      <th>DCS_Status_New</th>\n",
              "      <th>DCS_Status_None</th>\n",
              "    </tr>\n",
              "  </thead>\n",
              "  <tbody>\n",
              "    <tr>\n",
              "      <th>0</th>\n",
              "      <td>16853.0</td>\n",
              "      <td>701.638503</td>\n",
              "      <td>0.0</td>\n",
              "      <td>0.0</td>\n",
              "      <td>0.0</td>\n",
              "      <td>0.0</td>\n",
              "      <td>0.0</td>\n",
              "      <td>0.0</td>\n",
              "      <td>507.0</td>\n",
              "      <td>0.0</td>\n",
              "      <td>721.0</td>\n",
              "      <td>0.0</td>\n",
              "      <td>1.0</td>\n",
              "      <td>0.0</td>\n",
              "      <td>0.0</td>\n",
              "      <td>0.0</td>\n",
              "      <td>0.0</td>\n",
              "      <td>0.0</td>\n",
              "      <td>1.0</td>\n",
              "      <td>0.0</td>\n",
              "      <td>0.0</td>\n",
              "      <td>0.0</td>\n",
              "      <td>0.0</td>\n",
              "      <td>1.0</td>\n",
              "      <td>0.0</td>\n",
              "      <td>0.0</td>\n",
              "      <td>0.0</td>\n",
              "      <td>0.0</td>\n",
              "      <td>1.0</td>\n",
              "    </tr>\n",
              "    <tr>\n",
              "      <th>1</th>\n",
              "      <td>7111.0</td>\n",
              "      <td>1052.000000</td>\n",
              "      <td>70.0</td>\n",
              "      <td>0.0</td>\n",
              "      <td>70.0</td>\n",
              "      <td>29.0</td>\n",
              "      <td>0.0</td>\n",
              "      <td>70.0</td>\n",
              "      <td>2410.0</td>\n",
              "      <td>0.0</td>\n",
              "      <td>2653.0</td>\n",
              "      <td>1.0</td>\n",
              "      <td>1.0</td>\n",
              "      <td>0.0</td>\n",
              "      <td>0.0</td>\n",
              "      <td>0.0</td>\n",
              "      <td>0.0</td>\n",
              "      <td>0.0</td>\n",
              "      <td>1.0</td>\n",
              "      <td>0.0</td>\n",
              "      <td>0.0</td>\n",
              "      <td>0.0</td>\n",
              "      <td>0.0</td>\n",
              "      <td>1.0</td>\n",
              "      <td>0.0</td>\n",
              "      <td>1.0</td>\n",
              "      <td>0.0</td>\n",
              "      <td>0.0</td>\n",
              "      <td>0.0</td>\n",
              "    </tr>\n",
              "    <tr>\n",
              "      <th>2</th>\n",
              "      <td>8097.0</td>\n",
              "      <td>1783.000000</td>\n",
              "      <td>20.0</td>\n",
              "      <td>0.0</td>\n",
              "      <td>20.0</td>\n",
              "      <td>16.0</td>\n",
              "      <td>0.0</td>\n",
              "      <td>20.0</td>\n",
              "      <td>9844.0</td>\n",
              "      <td>0.0</td>\n",
              "      <td>68778.0</td>\n",
              "      <td>0.0</td>\n",
              "      <td>1.0</td>\n",
              "      <td>0.0</td>\n",
              "      <td>0.0</td>\n",
              "      <td>0.0</td>\n",
              "      <td>0.0</td>\n",
              "      <td>0.0</td>\n",
              "      <td>1.0</td>\n",
              "      <td>0.0</td>\n",
              "      <td>0.0</td>\n",
              "      <td>0.0</td>\n",
              "      <td>0.0</td>\n",
              "      <td>1.0</td>\n",
              "      <td>0.0</td>\n",
              "      <td>1.0</td>\n",
              "      <td>0.0</td>\n",
              "      <td>0.0</td>\n",
              "      <td>0.0</td>\n",
              "    </tr>\n",
              "    <tr>\n",
              "      <th>3</th>\n",
              "      <td>15735.0</td>\n",
              "      <td>878.000000</td>\n",
              "      <td>70.0</td>\n",
              "      <td>0.0</td>\n",
              "      <td>70.0</td>\n",
              "      <td>22.0</td>\n",
              "      <td>0.0</td>\n",
              "      <td>70.0</td>\n",
              "      <td>686.0</td>\n",
              "      <td>0.0</td>\n",
              "      <td>2538.0</td>\n",
              "      <td>1.0</td>\n",
              "      <td>1.0</td>\n",
              "      <td>0.0</td>\n",
              "      <td>0.0</td>\n",
              "      <td>0.0</td>\n",
              "      <td>0.0</td>\n",
              "      <td>0.0</td>\n",
              "      <td>1.0</td>\n",
              "      <td>0.0</td>\n",
              "      <td>0.0</td>\n",
              "      <td>0.0</td>\n",
              "      <td>0.0</td>\n",
              "      <td>1.0</td>\n",
              "      <td>0.0</td>\n",
              "      <td>1.0</td>\n",
              "      <td>0.0</td>\n",
              "      <td>0.0</td>\n",
              "      <td>0.0</td>\n",
              "    </tr>\n",
              "    <tr>\n",
              "      <th>4</th>\n",
              "      <td>3598.0</td>\n",
              "      <td>2612.000000</td>\n",
              "      <td>0.0</td>\n",
              "      <td>0.0</td>\n",
              "      <td>0.0</td>\n",
              "      <td>0.0</td>\n",
              "      <td>0.0</td>\n",
              "      <td>0.0</td>\n",
              "      <td>0.0</td>\n",
              "      <td>0.0</td>\n",
              "      <td>0.0</td>\n",
              "      <td>1.0</td>\n",
              "      <td>1.0</td>\n",
              "      <td>0.0</td>\n",
              "      <td>0.0</td>\n",
              "      <td>0.0</td>\n",
              "      <td>0.0</td>\n",
              "      <td>0.0</td>\n",
              "      <td>1.0</td>\n",
              "      <td>0.0</td>\n",
              "      <td>0.0</td>\n",
              "      <td>0.0</td>\n",
              "      <td>0.0</td>\n",
              "      <td>1.0</td>\n",
              "      <td>0.0</td>\n",
              "      <td>1.0</td>\n",
              "      <td>0.0</td>\n",
              "      <td>0.0</td>\n",
              "      <td>0.0</td>\n",
              "    </tr>\n",
              "  </tbody>\n",
              "</table>\n",
              "</div>"
            ],
            "text/plain": [
              "   Panel_Execution_Time  DCS_Execution_Time  ...  DCS_Status_New  DCS_Status_None\n",
              "0               16853.0          701.638503  ...             0.0              1.0\n",
              "1                7111.0         1052.000000  ...             0.0              0.0\n",
              "2                8097.0         1783.000000  ...             0.0              0.0\n",
              "3               15735.0          878.000000  ...             0.0              0.0\n",
              "4                3598.0         2612.000000  ...             0.0              0.0\n",
              "\n",
              "[5 rows x 29 columns]"
            ]
          },
          "metadata": {
            "tags": []
          },
          "execution_count": 34
        }
      ]
    },
    {
      "cell_type": "code",
      "metadata": {
        "id": "XikMYiv-ULDd"
      },
      "source": [
        ""
      ],
      "execution_count": null,
      "outputs": []
    }
  ]
}